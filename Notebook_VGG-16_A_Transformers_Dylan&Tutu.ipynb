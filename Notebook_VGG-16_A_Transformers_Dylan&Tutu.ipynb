{
 "cells": [
  {
   "cell_type": "markdown",
   "id": "4f5a6d37",
   "metadata": {},
   "source": [
    "#Dylan Hazael Raharja, 220711894, Transformers, Klasifikasi Kematangan Rambutan, dan mengerjakan VGG-16\n",
    "#Eustakius Satu Rajawali Ku, 220711648, Transformers, Klasifikasi Kematangan Rambutan, dan mengerjakan VGG-16"
   ]
  },
  {
   "cell_type": "code",
   "execution_count": 100,
   "id": "b274a132-1ddf-4d2e-a16b-93a7ffc52322",
   "metadata": {
    "scrolled": true
   },
   "outputs": [],
   "source": [
    "import os\n",
    "import numpy as np\n",
    "\n",
    "import tensorflow as tf\n",
    "from tensorflow.keras import layers \n",
    "from tensorflow.keras.preprocessing.image import load_img, ImageDataGenerator\n",
    "from tensorflow.keras.models import Sequential, load_model, Model\n",
    "from tensorflow.keras.layers import Conv2D, MaxPooling2D, Dense, Dropout, Flatten\n",
    "from tensorflow.keras.applications import VGG16\n",
    "from tensorflow.keras.layers import Dense, Flatten, Dropout, Conv2D, MaxPooling2D\n",
    "from tensorflow.keras.optimizers import Adam\n",
    "from tensorflow.keras.preprocessing import image_dataset_from_directory\n",
    "\n",
    "import matplotlib.pyplot as plt\n",
    "\n"
   ]
  },
  {
   "cell_type": "code",
   "execution_count": 101,
   "id": "fe91a867-8f3a-48ea-9301-c5fcc1a6a11f",
   "metadata": {},
   "outputs": [],
   "source": [
    "base_dir = r\"D:/ATMAJAYA/Semester5/PMDPL/UAS_A_11648/train_data\"\n",
    "img_size = 224  # VGG-16 menggunakan ukuran gambar 224x224\n",
    "batch_size = 32\n",
    "validation_split = 0.1"
   ]
  },
  {
   "cell_type": "code",
   "execution_count": 102,
   "id": "d3271740-8d9c-408a-8817-af4002a12197",
   "metadata": {
    "scrolled": true
   },
   "outputs": [
    {
     "name": "stdout",
     "output_type": "stream",
     "text": [
      "Directory exists: D:/ATMAJAYA/Semester5/PMDPL/UAS_A_11648/train_data\n",
      "Subdirectories: ['Busuk', 'Matang', 'Mentah']\n"
     ]
    }
   ],
   "source": [
    "if os.path.exists(base_dir):\n",
    "    print(\"Directory exists:\", base_dir)\n",
    "    print(\"Subdirectories:\", os.listdir(base_dir))\n",
    "else:\n",
    "    raise FileNotFoundError(f\"Directory not found: {base_dir}\")"
   ]
  },
  {
   "cell_type": "code",
   "execution_count": 103,
   "id": "083be975-6593-4daa-ac2b-fa798b55c398",
   "metadata": {},
   "outputs": [
    {
     "name": "stdout",
     "output_type": "stream",
     "text": [
      "Found 300 files belonging to 3 classes.\n"
     ]
    }
   ],
   "source": [
    "base_dir = r\"D:/ATMAJAYA/Semester5/PMDPL/UAS_A_11648/train_data\"\n",
    "\n",
    "dataset = image_dataset_from_directory(\n",
    "    base_dir, \n",
    "    seed=123, \n",
    "    image_size=(img_size, img_size), \n",
    "    batch_size=batch_size\n",
    ")"
   ]
  },
  {
   "cell_type": "code",
   "execution_count": 104,
   "id": "b8caeda8-df62-4885-acf7-6dc76f527457",
   "metadata": {},
   "outputs": [],
   "source": [
    "train_size = int(len(dataset) * 0.8)\n",
    "val_size = int(len(dataset) * 0.1)\n",
    "test_size = len(dataset) - train_size - val_size\n",
    "\n",
    "train_ds = dataset.take(train_size)\n",
    "val_ds = dataset.skip(train_size).take(val_size)\n",
    "test_ds = dataset.skip(train_size + val_size)"
   ]
  },
  {
   "cell_type": "code",
   "execution_count": 105,
   "id": "56b726d9",
   "metadata": {},
   "outputs": [
    {
     "name": "stdout",
     "output_type": "stream",
     "text": [
      "Busuk Folder has 83 Images\n",
      "Matang Folder has 106 Images\n",
      "Mentah Folder has 111 Images\n",
      "Images Folder has 300 Images\n"
     ]
    }
   ],
   "source": [
    "import os\n",
    "\n",
    "count = 0\n",
    "dirs = os.listdir(r'D:\\ATMAJAYA\\Semester5\\PMDPL\\UAS_A_11648\\train_data')\n",
    "for dir in dirs:\n",
    "    files = list(os.listdir(os.path.join(r'D:\\ATMAJAYA\\Semester5\\PMDPL\\UAS_A_11648\\train_data', dir)))\n",
    "    print(f'{dir} Folder has {len(files)} Images')\n",
    "    count += len(files)\n",
    "print(f'Images Folder has {count} Images')"
   ]
  },
  {
   "cell_type": "code",
   "execution_count": 106,
   "id": "105ac208-b1f4-4c52-afda-d95a40a1c231",
   "metadata": {},
   "outputs": [
    {
     "name": "stdout",
     "output_type": "stream",
     "text": [
      "Class Names: ['Busuk', 'Matang', 'Mentah']\n"
     ]
    }
   ],
   "source": [
    "class_names = dataset.class_names\n",
    "print(\"Class Names:\", class_names)"
   ]
  },
  {
   "cell_type": "code",
   "execution_count": 107,
   "id": "52621023-ba14-438e-832b-69ac922f68da",
   "metadata": {},
   "outputs": [
    {
     "name": "stderr",
     "output_type": "stream",
     "text": [
      "d:\\Anaconda\\Lib\\site-packages\\keras\\src\\layers\\preprocessing\\tf_data_layer.py:19: UserWarning: Do not pass an `input_shape`/`input_dim` argument to a layer. When using Sequential models, prefer using an `Input(shape)` object as the first layer in the model instead.\n",
      "  super().__init__(**kwargs)\n"
     ]
    }
   ],
   "source": [
    "from tensorflow.keras import layers\n",
    "\n",
    "data_augmentation = Sequential([\n",
    "    layers.RandomFlip(\"horizontal\", input_shape=(img_size, img_size, 3)),\n",
    "    layers.RandomRotation(0.1),\n",
    "    layers.RandomZoom(0.1)\n",
    "])"
   ]
  },
  {
   "cell_type": "code",
   "execution_count": 108,
   "id": "44ca710e-8968-497d-a7d4-834574602cbb",
   "metadata": {},
   "outputs": [],
   "source": [
    "import tensorflow as tf\n",
    "\n",
    "AUTOTUNE = tf.data.AUTOTUNE\n",
    "train_ds = train_ds.cache().shuffle(1000).prefetch(buffer_size=AUTOTUNE)\n",
    "val_ds = val_ds.cache().prefetch(buffer_size=AUTOTUNE)\n",
    "test_ds = test_ds.cache().prefetch(buffer_size=AUTOTUNE)\n"
   ]
  },
  {
   "cell_type": "code",
   "execution_count": 109,
   "id": "bd07c5d0-9fe6-49a5-aa4c-ff618bb951b5",
   "metadata": {},
   "outputs": [],
   "source": [
    "from tensorflow.keras.models import Sequential\n",
    "from tensorflow.keras.layers import Conv2D, MaxPooling2D, Flatten, Dense, Dropout, BatchNormalization\n",
    "\n",
    "def fine_tuned_vgg16(input_shape, num_classes):\n",
    "    model = Sequential([\n",
    "        # Block 1\n",
    "        Conv2D(64, (3, 3), activation='relu', padding='same', input_shape=input_shape),\n",
    "        BatchNormalization(),\n",
    "        Conv2D(64, (3, 3), activation='relu', padding='same'),\n",
    "        BatchNormalization(),\n",
    "        MaxPooling2D(pool_size=(2, 2)),\n",
    "\n",
    "        # Block 2\n",
    "        Conv2D(128, (3, 3), activation='relu', padding='same'),\n",
    "        BatchNormalization(),\n",
    "        Conv2D(128, (3, 3), activation='relu', padding='same'),\n",
    "        BatchNormalization(),\n",
    "        MaxPooling2D(pool_size=(2, 2)),\n",
    "\n",
    "        # Block 3\n",
    "        Conv2D(256, (3, 3), activation='relu', padding='same'),\n",
    "        BatchNormalization(),\n",
    "        Conv2D(256, (3, 3), activation='relu', padding='same'),\n",
    "        BatchNormalization(),\n",
    "        Conv2D(256, (3, 3), activation='relu', padding='same'),\n",
    "        BatchNormalization(),\n",
    "        MaxPooling2D(pool_size=(2, 2)),\n",
    "\n",
    "        # Block 4\n",
    "        Conv2D(512, (3, 3), activation='relu', padding='same'),\n",
    "        BatchNormalization(),\n",
    "        Conv2D(512, (3, 3), activation='relu', padding='same'),\n",
    "        BatchNormalization(),\n",
    "        Conv2D(512, (3, 3), activation='relu', padding='same'),\n",
    "        BatchNormalization(),\n",
    "        MaxPooling2D(pool_size=(2, 2)),\n",
    "\n",
    "        # Block 5\n",
    "        Conv2D(512, (3, 3), activation='relu', padding='same'),\n",
    "        BatchNormalization(),\n",
    "        Conv2D(512, (3, 3), activation='relu', padding='same'),\n",
    "        BatchNormalization(),\n",
    "        Conv2D(512, (3, 3), activation='relu', padding='same'),\n",
    "        BatchNormalization(),\n",
    "        MaxPooling2D(pool_size=(2, 2)),\n",
    "\n",
    "        # Fully Connected Layers\n",
    "        Flatten(),\n",
    "        Dense(1024, activation='relu'),  # Reduced from 4096 to 1024\n",
    "        Dropout(0.5),\n",
    "        Dense(512, activation='relu'),  # Further reduction to avoid overfitting\n",
    "        Dropout(0.5),\n",
    "        Dense(num_classes, activation='softmax')  # Adjust output layer for your number of classes\n",
    "    ])\n",
    "    return model\n",
    "\n"
   ]
  },
  {
   "cell_type": "code",
   "execution_count": 110,
   "id": "b7226922-ab6f-4d0b-8422-b41e85ebe360",
   "metadata": {},
   "outputs": [
    {
     "name": "stderr",
     "output_type": "stream",
     "text": [
      "d:\\Anaconda\\Lib\\site-packages\\keras\\src\\layers\\convolutional\\base_conv.py:107: UserWarning: Do not pass an `input_shape`/`input_dim` argument to a layer. When using Sequential models, prefer using an `Input(shape)` object as the first layer in the model instead.\n",
      "  super().__init__(activity_regularizer=activity_regularizer, **kwargs)\n"
     ]
    },
    {
     "name": "stdout",
     "output_type": "stream",
     "text": [
      "Model compiled successfully.\n"
     ]
    }
   ],
   "source": [
    "from tensorflow.keras.optimizers import Adam\n",
    "\n",
    "input_shape = (224, 224, 3)\n",
    "num_classes = 3\n",
    "\n",
    "model = build_vgg16(input_shape, num_classes)\n",
    "\n",
    "model.compile(\n",
    "    optimizer=Adam(learning_rate=1e-4),\n",
    "    loss='sparse_categorical_crossentropy',\n",
    "    metrics=['accuracy']\n",
    ")\n",
    "\n",
    "print(\"Model compiled successfully.\")\n"
   ]
  },
  {
   "cell_type": "code",
   "execution_count": 111,
   "id": "7a0d6de4-4808-4038-aff8-754638b0edd8",
   "metadata": {},
   "outputs": [
    {
     "name": "stdout",
     "output_type": "stream",
     "text": [
      "Class Names: ['Busuk', 'Matang', 'Mentah']\n",
      "Input Shape: (224, 224, 3)\n",
      "Number of Classes: 3\n"
     ]
    }
   ],
   "source": [
    "import os\n",
    "\n",
    "data_dir = r'D:\\ATMAJAYA\\Semester5\\PMDPL\\UAS_A_11648\\train_data'\n",
    "class_names = sorted(os.listdir(data_dir))  # Ensure alphabetical order for consistent class indices\n",
    "print(f\"Class Names: {class_names}\")\n",
    "\n",
    "input_shape = (img_size, img_size, 3)\n",
    "num_classes = len(class_names)\n",
    "model = build_vgg16(input_shape, num_classes)\n",
    "\n",
    "print(f\"Input Shape: {input_shape}\")\n",
    "print(f\"Number of Classes: {num_classes}\")\n"
   ]
  },
  {
   "cell_type": "code",
   "execution_count": 112,
   "id": "3580837a-5487-44a7-b83f-fddc7182156f",
   "metadata": {},
   "outputs": [],
   "source": [
    "from tensorflow.keras.callbacks import EarlyStopping\n",
    "early_stopping = EarlyStopping(monitor='val_accuracy', patience=3, mode='max')\n"
   ]
  },
  {
   "cell_type": "code",
   "execution_count": 113,
   "id": "fca824da-4d82-422e-8faa-cb814bac453d",
   "metadata": {},
   "outputs": [
    {
     "name": "stdout",
     "output_type": "stream",
     "text": [
      "Epoch 1/30\n",
      "\u001b[1m8/8\u001b[0m \u001b[32m━━━━━━━━━━━━━━━━━━━━\u001b[0m\u001b[37m\u001b[0m \u001b[1m107s\u001b[0m 12s/step - accuracy: 0.2838 - loss: 2.3209 - val_accuracy: 0.3125 - val_loss: 1.1016\n",
      "Epoch 2/30\n",
      "\u001b[1m8/8\u001b[0m \u001b[32m━━━━━━━━━━━━━━━━━━━━\u001b[0m\u001b[37m\u001b[0m \u001b[1m95s\u001b[0m 12s/step - accuracy: 0.3477 - loss: 1.0992 - val_accuracy: 0.3125 - val_loss: 1.0474\n",
      "Epoch 3/30\n",
      "\u001b[1m8/8\u001b[0m \u001b[32m━━━━━━━━━━━━━━━━━━━━\u001b[0m\u001b[37m\u001b[0m \u001b[1m96s\u001b[0m 12s/step - accuracy: 0.5150 - loss: 0.9762 - val_accuracy: 0.8438 - val_loss: 0.3703\n",
      "Epoch 4/30\n",
      "\u001b[1m8/8\u001b[0m \u001b[32m━━━━━━━━━━━━━━━━━━━━\u001b[0m\u001b[37m\u001b[0m \u001b[1m95s\u001b[0m 12s/step - accuracy: 0.7798 - loss: 0.6181 - val_accuracy: 0.5938 - val_loss: 0.9157\n",
      "Epoch 5/30\n",
      "\u001b[1m8/8\u001b[0m \u001b[32m━━━━━━━━━━━━━━━━━━━━\u001b[0m\u001b[37m\u001b[0m \u001b[1m96s\u001b[0m 12s/step - accuracy: 0.7299 - loss: 0.6952 - val_accuracy: 1.0000 - val_loss: 0.3221\n",
      "Epoch 6/30\n",
      "\u001b[1m8/8\u001b[0m \u001b[32m━━━━━━━━━━━━━━━━━━━━\u001b[0m\u001b[37m\u001b[0m \u001b[1m91s\u001b[0m 11s/step - accuracy: 0.8774 - loss: 0.3518 - val_accuracy: 1.0000 - val_loss: 0.0389\n",
      "Epoch 7/30\n",
      "\u001b[1m8/8\u001b[0m \u001b[32m━━━━━━━━━━━━━━━━━━━━\u001b[0m\u001b[37m\u001b[0m \u001b[1m91s\u001b[0m 11s/step - accuracy: 0.9329 - loss: 0.1968 - val_accuracy: 0.6562 - val_loss: 1.3125\n",
      "Epoch 8/30\n",
      "\u001b[1m8/8\u001b[0m \u001b[32m━━━━━━━━━━━━━━━━━━━━\u001b[0m\u001b[37m\u001b[0m \u001b[1m90s\u001b[0m 11s/step - accuracy: 0.8494 - loss: 0.4369 - val_accuracy: 0.9375 - val_loss: 0.2437\n",
      "Epoch 9/30\n",
      "\u001b[1m8/8\u001b[0m \u001b[32m━━━━━━━━━━━━━━━━━━━━\u001b[0m\u001b[37m\u001b[0m \u001b[1m92s\u001b[0m 12s/step - accuracy: 0.9387 - loss: 0.2141 - val_accuracy: 1.0000 - val_loss: 0.0290\n",
      "Epoch 10/30\n",
      "\u001b[1m8/8\u001b[0m \u001b[32m━━━━━━━━━━━━━━━━━━━━\u001b[0m\u001b[37m\u001b[0m \u001b[1m91s\u001b[0m 11s/step - accuracy: 0.9548 - loss: 0.1144 - val_accuracy: 1.0000 - val_loss: 0.0387\n",
      "Epoch 11/30\n",
      "\u001b[1m8/8\u001b[0m \u001b[32m━━━━━━━━━━━━━━━━━━━━\u001b[0m\u001b[37m\u001b[0m \u001b[1m92s\u001b[0m 12s/step - accuracy: 0.8850 - loss: 0.3014 - val_accuracy: 1.0000 - val_loss: 0.0461\n",
      "Epoch 12/30\n",
      "\u001b[1m8/8\u001b[0m \u001b[32m━━━━━━━━━━━━━━━━━━━━\u001b[0m\u001b[37m\u001b[0m \u001b[1m92s\u001b[0m 11s/step - accuracy: 0.9605 - loss: 0.1637 - val_accuracy: 1.0000 - val_loss: 0.1681\n",
      "Epoch 13/30\n",
      "\u001b[1m8/8\u001b[0m \u001b[32m━━━━━━━━━━━━━━━━━━━━\u001b[0m\u001b[37m\u001b[0m \u001b[1m91s\u001b[0m 11s/step - accuracy: 0.9536 - loss: 0.1402 - val_accuracy: 1.0000 - val_loss: 0.0101\n",
      "Epoch 14/30\n",
      "\u001b[1m8/8\u001b[0m \u001b[32m━━━━━━━━━━━━━━━━━━━━\u001b[0m\u001b[37m\u001b[0m \u001b[1m91s\u001b[0m 11s/step - accuracy: 0.9533 - loss: 0.0741 - val_accuracy: 1.0000 - val_loss: 0.0066\n",
      "Epoch 15/30\n",
      "\u001b[1m8/8\u001b[0m \u001b[32m━━━━━━━━━━━━━━━━━━━━\u001b[0m\u001b[37m\u001b[0m \u001b[1m91s\u001b[0m 11s/step - accuracy: 0.9840 - loss: 0.0346 - val_accuracy: 1.0000 - val_loss: 8.0506e-05\n",
      "Epoch 16/30\n",
      "\u001b[1m8/8\u001b[0m \u001b[32m━━━━━━━━━━━━━━━━━━━━\u001b[0m\u001b[37m\u001b[0m \u001b[1m90s\u001b[0m 11s/step - accuracy: 0.9772 - loss: 0.0687 - val_accuracy: 1.0000 - val_loss: 0.0257\n",
      "Epoch 17/30\n",
      "\u001b[1m8/8\u001b[0m \u001b[32m━━━━━━━━━━━━━━━━━━━━\u001b[0m\u001b[37m\u001b[0m \u001b[1m90s\u001b[0m 11s/step - accuracy: 0.9811 - loss: 0.0572 - val_accuracy: 1.0000 - val_loss: 0.0041\n",
      "Epoch 18/30\n",
      "\u001b[1m8/8\u001b[0m \u001b[32m━━━━━━━━━━━━━━━━━━━━\u001b[0m\u001b[37m\u001b[0m \u001b[1m90s\u001b[0m 11s/step - accuracy: 0.9808 - loss: 0.0837 - val_accuracy: 1.0000 - val_loss: 0.0027\n",
      "Epoch 19/30\n",
      "\u001b[1m8/8\u001b[0m \u001b[32m━━━━━━━━━━━━━━━━━━━━\u001b[0m\u001b[37m\u001b[0m \u001b[1m90s\u001b[0m 11s/step - accuracy: 0.9823 - loss: 0.0480 - val_accuracy: 1.0000 - val_loss: 0.0541\n",
      "Epoch 20/30\n",
      "\u001b[1m8/8\u001b[0m \u001b[32m━━━━━━━━━━━━━━━━━━━━\u001b[0m\u001b[37m\u001b[0m \u001b[1m92s\u001b[0m 12s/step - accuracy: 0.9862 - loss: 0.0746 - val_accuracy: 1.0000 - val_loss: 0.0100\n",
      "Epoch 21/30\n",
      "\u001b[1m8/8\u001b[0m \u001b[32m━━━━━━━━━━━━━━━━━━━━\u001b[0m\u001b[37m\u001b[0m \u001b[1m99s\u001b[0m 13s/step - accuracy: 0.9888 - loss: 0.0435 - val_accuracy: 1.0000 - val_loss: 4.5475e-04\n",
      "Epoch 22/30\n",
      "\u001b[1m8/8\u001b[0m \u001b[32m━━━━━━━━━━━━━━━━━━━━\u001b[0m\u001b[37m\u001b[0m \u001b[1m115s\u001b[0m 14s/step - accuracy: 0.9939 - loss: 0.0129 - val_accuracy: 1.0000 - val_loss: 9.4250e-05\n",
      "Epoch 23/30\n",
      "\u001b[1m8/8\u001b[0m \u001b[32m━━━━━━━━━━━━━━━━━━━━\u001b[0m\u001b[37m\u001b[0m \u001b[1m110s\u001b[0m 14s/step - accuracy: 1.0000 - loss: 0.0030 - val_accuracy: 1.0000 - val_loss: 1.1457e-04\n",
      "Epoch 24/30\n",
      "\u001b[1m8/8\u001b[0m \u001b[32m━━━━━━━━━━━━━━━━━━━━\u001b[0m\u001b[37m\u001b[0m \u001b[1m103s\u001b[0m 13s/step - accuracy: 1.0000 - loss: 0.0019 - val_accuracy: 1.0000 - val_loss: 1.1573e-04\n",
      "Epoch 25/30\n",
      "\u001b[1m8/8\u001b[0m \u001b[32m━━━━━━━━━━━━━━━━━━━━\u001b[0m\u001b[37m\u001b[0m \u001b[1m101s\u001b[0m 13s/step - accuracy: 1.0000 - loss: 8.5508e-04 - val_accuracy: 1.0000 - val_loss: 3.2484e-06\n",
      "Epoch 26/30\n",
      "\u001b[1m8/8\u001b[0m \u001b[32m━━━━━━━━━━━━━━━━━━━━\u001b[0m\u001b[37m\u001b[0m \u001b[1m101s\u001b[0m 13s/step - accuracy: 1.0000 - loss: 1.9165e-04 - val_accuracy: 1.0000 - val_loss: 1.0431e-06\n",
      "Epoch 27/30\n",
      "\u001b[1m8/8\u001b[0m \u001b[32m━━━━━━━━━━━━━━━━━━━━\u001b[0m\u001b[37m\u001b[0m \u001b[1m101s\u001b[0m 13s/step - accuracy: 1.0000 - loss: 1.5478e-04 - val_accuracy: 1.0000 - val_loss: 2.7939e-06\n",
      "Epoch 28/30\n",
      "\u001b[1m8/8\u001b[0m \u001b[32m━━━━━━━━━━━━━━━━━━━━\u001b[0m\u001b[37m\u001b[0m \u001b[1m101s\u001b[0m 13s/step - accuracy: 1.0000 - loss: 1.8734e-04 - val_accuracy: 1.0000 - val_loss: 4.8575e-06\n",
      "Epoch 29/30\n",
      "\u001b[1m8/8\u001b[0m \u001b[32m━━━━━━━━━━━━━━━━━━━━\u001b[0m\u001b[37m\u001b[0m \u001b[1m101s\u001b[0m 13s/step - accuracy: 1.0000 - loss: 1.0755e-04 - val_accuracy: 1.0000 - val_loss: 3.9524e-06\n",
      "Epoch 30/30\n",
      "\u001b[1m8/8\u001b[0m \u001b[32m━━━━━━━━━━━━━━━━━━━━\u001b[0m\u001b[37m\u001b[0m \u001b[1m99s\u001b[0m 12s/step - accuracy: 1.0000 - loss: 8.3568e-05 - val_accuracy: 1.0000 - val_loss: 2.3618e-06\n"
     ]
    }
   ],
   "source": [
    "from tensorflow.keras.optimizers import Adam\n",
    "from tensorflow.keras.callbacks import EarlyStopping\n",
    "\n",
    "# Ensure model is built\n",
    "input_shape = (img_size, img_size, 3)  # Define input shape\n",
    "num_classes = len(class_names)         # Define number of classes\n",
    "model = build_vgg16(input_shape, num_classes)\n",
    "\n",
    "# Compile the model\n",
    "model.compile(\n",
    "    optimizer=Adam(learning_rate=1e-4),\n",
    "    loss='sparse_categorical_crossentropy',\n",
    "    metrics=['accuracy']\n",
    ")\n",
    "\n",
    "# Set up early stopping\n",
    "early_stopping = EarlyStopping(\n",
    "    monitor='val_loss', \n",
    "    patience=10, \n",
    "    restore_best_weights=True\n",
    ")\n",
    "\n",
    "# Train the model\n",
    "history = model.fit(\n",
    "    train_ds,\n",
    "    epochs=30,\n",
    "    validation_data=val_ds,\n",
    "    callbacks=[early_stopping]\n",
    ")\n"
   ]
  },
  {
   "cell_type": "code",
   "execution_count": 114,
   "id": "dc4b260c-2023-4b8d-9edc-1e64bec5e045",
   "metadata": {},
   "outputs": [
    {
     "data": {
      "text/plain": [
       "<Figure size 1000x1000 with 0 Axes>"
      ]
     },
     "execution_count": 114,
     "metadata": {},
     "output_type": "execute_result"
    },
    {
     "data": {
      "text/plain": [
       "<Figure size 1000x1000 with 0 Axes>"
      ]
     },
     "metadata": {},
     "output_type": "display_data"
    }
   ],
   "source": [
    "epochs_range = range(1, len(history.history['loss']) + 1)\n",
    "\n",
    "plt.figure(figsize=(10, 10))"
   ]
  },
  {
   "cell_type": "code",
   "execution_count": 115,
   "id": "81d7686e-f47b-4517-8424-c8a32837f1d0",
   "metadata": {},
   "outputs": [
    {
     "data": {
      "image/png": "[encoded data removed]",
      "text/plain": [
       "<Figure size 640x480 with 2 Axes>"
      ]
     },
     "metadata": {},
     "output_type": "display_data"
    }
   ],
   "source": [
    "plt.subplot(1, 2, 1)\n",
    "plt.plot(epochs_range, history.history['accuracy'], label='Training Accuracy')\n",
    "plt.plot(epochs_range, history.history['val_accuracy'], label='Validation Accuracy')\n",
    "plt.legend(loc='lower right')\n",
    "plt.title('Training and Validation Accuracy')\n",
    "\n",
    "plt.subplot(1, 2, 2)\n",
    "plt.plot(epochs_range, history.history['loss'], label='Training Loss')\n",
    "plt.plot(epochs_range, history.history['val_loss'], label='Validation Loss')\n",
    "plt.legend(loc='upper right')\n",
    "plt.title('Training and Validation Loss')\n",
    "\n",
    "plt.show()"
   ]
  },
  {
   "cell_type": "code",
   "execution_count": 116,
   "id": "113284e4-d7f4-45c8-b9ff-f89b9299c8ab",
   "metadata": {},
   "outputs": [
    {
     "name": "stdout",
     "output_type": "stream",
     "text": [
      "\u001b[1m1/1\u001b[0m \u001b[32m━━━━━━━━━━━━━━━━━━━━\u001b[0m\u001b[37m\u001b[0m \u001b[1m2s\u001b[0m 2s/step - accuracy: 1.0000 - loss: 1.1921e-07\n",
      "Test Loss: 1.1920925402364446e-07\n",
      "Test Accuracy: 1.0\n"
     ]
    }
   ],
   "source": [
    "import streamlit as st\n",
    "\n",
    "st.write(\"Evaluasi Model pada Test Set\")\n",
    "test_loss, test_accuracy = model.evaluate(test_ds)\n",
    "print(f\"Test Loss: {test_loss}\")\n",
    "print(f\"Test Accuracy: {test_accuracy}\")\n"
   ]
  },
  {
   "cell_type": "code",
   "execution_count": 117,
   "id": "4edfc99a",
   "metadata": {},
   "outputs": [
    {
     "name": "stderr",
     "output_type": "stream",
     "text": [
      "WARNING:absl:Compiled the loaded model, but the compiled metrics have yet to be built. `model.compile_metrics` will be empty until you train or evaluate the model.\n"
     ]
    },
    {
     "name": "stdout",
     "output_type": "stream",
     "text": [
      "Found 300 files belonging to 3 classes.\n",
      "\u001b[1m10/10\u001b[0m \u001b[32m━━━━━━━━━━━━━━━━━━━━\u001b[0m\u001b[37m\u001b[0m \u001b[1m35s\u001b[0m 3s/step\n"
     ]
    },
    {
     "data": {
      "image/png": "[encoded data removed]",
      "text/plain": [
       "<Figure size 600x500 with 2 Axes>"
      ]
     },
     "metadata": {},
     "output_type": "display_data"
    },
    {
     "name": "stdout",
     "output_type": "stream",
     "text": [
      "Confusion Matrix:\n",
      " [[56 15 12]\n",
      " [86  9 11]\n",
      " [81 12 18]]\n",
      "Akurasi: 0.27666666666666667\n",
      "Presisi: [0.25112108 0.25       0.43902439]\n",
      "Recall: [0.6746988  0.08490566 0.16216216]\n",
      "F1 Score: [0.36601307 0.12676056 0.23684211]\n"
     ]
    }
   ],
   "source": [
    "import tensorflow as tf\n",
    "from tensorflow.keras.models import load_model\n",
    "import seaborn as sns\n",
    "import matplotlib.pyplot as plt\n",
    "\n",
    "# Load model\n",
    "model = load_model(r'D:\\ATMAJAYA\\Semester5\\PMDPL\\UAS_A_11648\\BestModel_VGG-16_Transformers.h5')\n",
    "\n",
    "# Load test data\n",
    "test_data = tf.keras.preprocessing.image_dataset_from_directory(\n",
    "    r'test_data',\n",
    "    labels='inferred',\n",
    "    label_mode='categorical',\n",
    "    batch_size=32,\n",
    "    image_size=(224, 224)  # Ubah ukuran ke 224x224 agar sesuai dengan input model VGG-16\n",
    ")\n",
    "\n",
    "# Normalisasi data jika model mengharuskan input dalam rentang [0, 1]\n",
    "test_data = test_data.map(lambda x, y: (x / 255.0, y))\n",
    "\n",
    "# Prediksi model\n",
    "y_pred = model.predict(test_data)\n",
    "y_pred_class = tf.argmax(y_pred, axis=1)\n",
    "\n",
    "# Ekstrak label sebenarnya dari test_data\n",
    "true_labels = []\n",
    "for _, labels in test_data:\n",
    "    true_labels.extend(tf.argmax(labels, axis=1).numpy())\n",
    "true_labels = tf.convert_to_tensor(true_labels)\n",
    "\n",
    "# Membuat confusion matrix\n",
    "conf_mat = tf.math.confusion_matrix(true_labels, y_pred_class)\n",
    "\n",
    "# Menghitung akurasi, presisi, recall, dan F1 score\n",
    "accuracy = tf.reduce_sum(tf.linalg.diag_part(conf_mat)) / tf.reduce_sum(conf_mat)\n",
    "precision = tf.linalg.diag_part(conf_mat) / tf.reduce_sum(conf_mat, axis=0)\n",
    "recall = tf.linalg.diag_part(conf_mat) / tf.reduce_sum(conf_mat, axis=1)\n",
    "f1_score = 2 * (precision * recall) / (precision + recall)\n",
    "\n",
    "# Visualisasi Confusion Matrix\n",
    "plt.figure(figsize=(6, 5))\n",
    "sns.heatmap(conf_mat.numpy(), annot=True, fmt='d', cmap='Blues',\n",
    "            xticklabels=[\"Besar\", \"Kecil\"], yticklabels=[\"Panjang\", \"Lebar\"])\n",
    "plt.title('Confusion Matrix')\n",
    "plt.xlabel('Predicted label')\n",
    "plt.ylabel('True label')\n",
    "plt.show()\n",
    "\n",
    "# Menampilkan hasil\n",
    "print(\"Confusion Matrix:\\n\", conf_mat.numpy())\n",
    "print(\"Akurasi:\", accuracy.numpy())\n",
    "print(\"Presisi:\", precision.numpy())\n",
    "print(\"Recall:\", recall.numpy())\n",
    "print(\"F1 Score:\", f1_score.numpy())\n"
   ]
  },
  {
   "cell_type": "code",
   "execution_count": 118,
   "id": "2ed83384",
   "metadata": {},
   "outputs": [
    {
     "name": "stderr",
     "output_type": "stream",
     "text": [
      "WARNING:absl:Compiled the loaded model, but the compiled metrics have yet to be built. `model.compile_metrics` will be empty until you train or evaluate the model.\n"
     ]
    },
    {
     "name": "stdout",
     "output_type": "stream",
     "text": [
      "\u001b[1m1/1\u001b[0m \u001b[32m━━━━━━━━━━━━━━━━━━━━\u001b[0m\u001b[37m\u001b[0m \u001b[1m0s\u001b[0m 388ms/step\n",
      "Predictions shape: (1, 3)\n",
      "Prediksi: Mentah\n",
      "Confidence: 41.43%\n",
      "Prediksi: Mentah dengan confidence 41.43%. Gambar asli disimpan di matang.jpg.\n"
     ]
    }
   ],
   "source": [
    "import tensorflow as tf\n",
    "import numpy as np\n",
    "import matplotlib.pyplot as plt\n",
    "from tensorflow.keras.models import load_model\n",
    "from PIL import Image\n",
    "\n",
    "# Memuat model yang sudah dilatih\n",
    "model = load_model(r'D:\\ATMAJAYA\\Semester5\\PMDPL\\UAS_A_11648\\BestModel_VGG-16_Transformers.h5')  # Ganti dengan path model Anda\n",
    "class_names = ['Busuk','Matang', 'Mentah']  # Kelas yang ada pada model\n",
    "\n",
    "# Fungsi untuk mengklasifikasikan gambar dan menyimpan gambar asli\n",
    "def classify_images(image_path, save_path='predicted_image.jpg'):\n",
    "    try:\n",
    "        # Memuat dan mempersiapkan gambar untuk prediksi dengan ukuran yang sesuai\n",
    "        input_image = tf.keras.utils.load_img(image_path, target_size=(224, 224))  # Ubah ukuran gambar sesuai dengan model\n",
    "        input_image_array = tf.keras.utils.img_to_array(input_image)  # Mengubah gambar jadi array numpy agar bisa di proses model\n",
    "        input_image_array = tf.keras.applications.vgg16.preprocess_input(input_image_array)  # Preprocessing gambar\n",
    "\n",
    "        # Menambahkan dimensi batch agar sesuai dengan input model\n",
    "        input_image_exp_dim = tf.expand_dims(input_image_array, 0)  # Dimensi menjadi (1, 224, 224, 3)\n",
    "\n",
    "        # Melakukan prediksi\n",
    "        predictions = model.predict(input_image_exp_dim)  # Melakukan prediksi pada gambar yang telah diproses\n",
    "\n",
    "        # Cek bentuk predictions\n",
    "        print(f\"Predictions shape: {predictions.shape}\")\n",
    "        \n",
    "        # Pastikan predictions memiliki hasil yang benar\n",
    "        if predictions.shape[0] == 0:\n",
    "            return \"Terjadi kesalahan: Tidak ada hasil prediksi.\"\n",
    "        \n",
    "        result = tf.nn.softmax(predictions[0])  # Menghitung hasil prediksi\n",
    "        class_idx = np.argmax(result)  # Menemukan indeks kelas\n",
    "        confidence = np.max(result) * 100  # Menghitung confidence dalam persentase\n",
    "\n",
    "        # Menampilkan hasil prediksi dan confidence\n",
    "        print(f\"Prediksi: {class_names[class_idx]}\")  # Menampilkan nama kelas yang diprediksi\n",
    "        print(f\"Confidence: {confidence:.2f}%\")  # Menampilkan nilai confidence\n",
    "\n",
    "        # Menyimpan gambar asli tanpa teks\n",
    "        input_image = Image.open(image_path)  # Membuka gambar yang ada di path\n",
    "        input_image.save(save_path)  # Menyimpan gambar asli ke dalam path yang telah ditentukan\n",
    "\n",
    "        return f\"Prediksi: {class_names[class_idx]} dengan confidence {confidence:.2f}%. Gambar asli disimpan di {save_path}.\"\n",
    "    except Exception as e:\n",
    "        return f\"Terjadi kesalahan: {e}\"\n",
    "\n",
    "# Contoh penggunaan fungsi\n",
    "result = classify_images(r'D:\\ATMAJAYA\\Semester5\\PMDPL\\UAS_A_11648\\test_data\\Matang\\6.jpg', save_path='matang.jpg')\n",
    "print(result)\n"
   ]
  },
  {
   "cell_type": "code",
   "execution_count": 119,
   "id": "171aacdd-23c0-4cae-a1ef-1814ebfe9b2c",
   "metadata": {},
   "outputs": [
    {
     "name": "stderr",
     "output_type": "stream",
     "text": [
      "WARNING:absl:You are saving your model as an HDF5 file via `model.save()` or `keras.saving.save_model(model)`. This file format is considered legacy. We recommend using instead the native Keras format, e.g. `model.save('my_model.keras')` or `keras.saving.save_model(model, 'my_model.keras')`. \n"
     ]
    }
   ],
   "source": [
    "model.save('BestModel_VGG-16_Transformers.h5')"
   ]
  }
 ],
 "metadata": {
  "kernelspec": {
   "display_name": "base",
   "language": "python",
   "name": "python3"
  },
  "language_info": {
   "codemirror_mode": {
    "name": "ipython",
    "version": 3
   },
   "file_extension": ".py",
   "mimetype": "text/x-python",
   "name": "python",
   "nbconvert_exporter": "python",
   "pygments_lexer": "ipython3",
   "version": "3.12.4"
  }
 },
 "nbformat": 4,
 "nbformat_minor": 5
}
